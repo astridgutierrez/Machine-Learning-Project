{
  "nbformat": 4,
  "nbformat_minor": 0,
  "metadata": {
    "colab": {
      "provenance": [],
      "authorship_tag": "ABX9TyPpEtuTUgVo6MF6tlywU3w2",
      "include_colab_link": true
    },
    "kernelspec": {
      "name": "python3",
      "display_name": "Python 3"
    },
    "language_info": {
      "name": "python"
    }
  },
  "cells": [
    {
      "cell_type": "markdown",
      "metadata": {
        "id": "view-in-github",
        "colab_type": "text"
      },
      "source": [
        "<a href=\"https://colab.research.google.com/github/astridgutierrez/Machine-Learning-Project/blob/main/ProjectSix_Astrid.ipynb\" target=\"_parent\"><img src=\"https://colab.research.google.com/assets/colab-badge.svg\" alt=\"Open In Colab\"/></a>"
      ]
    },
    {
      "cell_type": "markdown",
      "source": [
        "# Predicting Song Popularity Using Regression Algorithms"
      ],
      "metadata": {
        "id": "m0xh5ht20gS7"
      }
    },
    {
      "cell_type": "markdown",
      "source": [
        "## Setup"
      ],
      "metadata": {
        "id": "DgtolVyj0mbZ"
      }
    },
    {
      "cell_type": "code",
      "execution_count": null,
      "metadata": {
        "id": "RBF7FPWWnrmD"
      },
      "outputs": [],
      "source": [
        "# Python ≥3.5 is required\n",
        "import sys\n",
        "assert sys.version_info >= (3, 5)\n",
        "\n",
        "# Scikit-Learn ≥0.20 is required\n",
        "import sklearn\n",
        "assert sklearn.__version__ >= \"0.20\"\n",
        "\n",
        "# Common imports\n",
        "import numpy as np\n",
        "import os\n",
        "\n",
        "# to make this notebook's output stable across runs\n",
        "np.random.seed(42)\n",
        "\n",
        "# To plot pretty figures\n",
        "%matplotlib inline\n",
        "import matplotlib as mpl\n",
        "import matplotlib.pyplot as plt\n",
        "mpl.rc('axes', labelsize=14)\n",
        "mpl.rc('xtick', labelsize=12)\n",
        "mpl.rc('ytick', labelsize=12)\n",
        "\n",
        "# Where to save the figures\n",
        "PROJECT_ROOT_DIR = \".\"\n",
        "CHAPTER_ID = \"final_project\"\n",
        "IMAGES_PATH = os.path.join(PROJECT_ROOT_DIR, \"images\", CHAPTER_ID)\n",
        "os.makedirs(IMAGES_PATH, exist_ok=True)\n",
        "\n",
        "def save_fig(fig_id, tight_layout=True, fig_extension=\"png\", resolution=300):\n",
        "    path = os.path.join(IMAGES_PATH, fig_id + \".\" + fig_extension)\n",
        "    print(\"Saving figure\", fig_id)\n",
        "    if tight_layout:\n",
        "        plt.tight_layout()\n",
        "    plt.savefig(path, format=fig_extension, dpi=resolution)"
      ]
    },
    {
      "cell_type": "markdown",
      "source": [
        "## Get data"
      ],
      "metadata": {
        "id": "J5szSbNG0pl6"
      }
    },
    {
      "cell_type": "code",
      "source": [
        "from google.colab import auth\n",
        "auth.authenticate_user()\n",
        "\n",
        "import gspread\n",
        "from google.auth import default\n",
        "creds, _ = default()\n",
        "\n",
        "gc = gspread.authorize(creds)\n",
        "\n",
        "worksheet = gc.open('tracks').sheet1\n",
        "\n",
        "# get_all_values gives a list of rows.\n",
        "rows = worksheet.get_all_values()\n",
        "# print(rows)\n",
        "\n",
        "# Convert to a DataFrame and render.\n",
        "import pandas as pd\n",
        "data = pd.DataFrame.from_records(rows)\n",
        "\n",
        "new_header = data.iloc[0] #grab the first row for the header\n",
        "data = data[1:] #take the data less the header row\n",
        "data.columns = new_header #set the header row as the df header\n",
        "\n",
        "data.head()"
      ],
      "metadata": {
        "colab": {
          "base_uri": "https://localhost:8080/",
          "height": 444
        },
        "id": "DXZOjIGJoT1z",
        "outputId": "37aad4fa-87f0-4027-a597-39751f1933c6"
      },
      "execution_count": null,
      "outputs": [
        {
          "output_type": "execute_result",
          "data": {
            "text/plain": [
              "0                      id                             name popularity  \\\n",
              "1  0usLN2VpccZQwWkGLm3Odm             2013 Will Be My Year          0   \n",
              "2  1Nlstdx5q4GVUyaQqHYvqh  Inner City Life - 2020 Remaster          0   \n",
              "3  4BvreMl8IerW37NLYtBZ9e            Blow Your Mind (Mwah)          0   \n",
              "4  4K9PNGfQMYnMsY9zEDKDLC                   Break My Heart          0   \n",
              "5  5xZAMT6xqi8sXUHcccwzK2                       Love Again          0   \n",
              "\n",
              "0 duration_ms explicit                    artists  \\\n",
              "1      161045        0      ['Jay and Others :>']   \n",
              "2      422183        0                 ['Goldie']   \n",
              "3      178583        0               ['Dua Lipa']   \n",
              "4      352453        0  ['Dua Lipa', 'Moodymann']   \n",
              "5      258004        0               ['Dua Lipa']   \n",
              "\n",
              "0                                         id_artists release_date  \\\n",
              "1                         ['3pwVqfe1xCnGTTnbVjYf74']    4/16/2021   \n",
              "2                         ['2SYqJ3uDLLXZNyZdLKBy4M']    4/16/2021   \n",
              "3                         ['6M2wZ9GZgrQXHCFfjv46we']    4/16/2021   \n",
              "4  ['6M2wZ9GZgrQXHCFfjv46we', '6pohviZSNRueSX7uNu...    4/16/2021   \n",
              "5                         ['6M2wZ9GZgrQXHCFfjv46we']    4/16/2021   \n",
              "\n",
              "0 danceability energy key loudness mode speechiness acousticness  \\\n",
              "1        0.347  0.965  10   -6.014    1       0.142       0.0504   \n",
              "2        0.384  0.889   7   -6.548    1      0.0936      0.00226   \n",
              "3        0.677  0.796   2   -4.761    0       0.117       0.0188   \n",
              "4        0.772  0.637   4   -7.846    0      0.0494        0.022   \n",
              "5        0.659  0.667  11   -4.668    0      0.0339      0.00173   \n",
              "\n",
              "0 instrumentalness liveness valence    tempo time_signature  \n",
              "1                0    0.343   0.392   90.987              4  \n",
              "2            0.425   0.0728   0.112  154.886              4  \n",
              "3                0   0.0948   0.494  108.851              4  \n",
              "4           0.0353   0.0898   0.409  113.022              4  \n",
              "5         2.85E-05      0.1   0.468  115.982              4  "
            ],
            "text/html": [
              "\n",
              "  <div id=\"df-ca4cf52a-901c-4500-a747-79494d65669d\">\n",
              "    <div class=\"colab-df-container\">\n",
              "      <div>\n",
              "<style scoped>\n",
              "    .dataframe tbody tr th:only-of-type {\n",
              "        vertical-align: middle;\n",
              "    }\n",
              "\n",
              "    .dataframe tbody tr th {\n",
              "        vertical-align: top;\n",
              "    }\n",
              "\n",
              "    .dataframe thead th {\n",
              "        text-align: right;\n",
              "    }\n",
              "</style>\n",
              "<table border=\"1\" class=\"dataframe\">\n",
              "  <thead>\n",
              "    <tr style=\"text-align: right;\">\n",
              "      <th></th>\n",
              "      <th>id</th>\n",
              "      <th>name</th>\n",
              "      <th>popularity</th>\n",
              "      <th>duration_ms</th>\n",
              "      <th>explicit</th>\n",
              "      <th>artists</th>\n",
              "      <th>id_artists</th>\n",
              "      <th>release_date</th>\n",
              "      <th>danceability</th>\n",
              "      <th>energy</th>\n",
              "      <th>key</th>\n",
              "      <th>loudness</th>\n",
              "      <th>mode</th>\n",
              "      <th>speechiness</th>\n",
              "      <th>acousticness</th>\n",
              "      <th>instrumentalness</th>\n",
              "      <th>liveness</th>\n",
              "      <th>valence</th>\n",
              "      <th>tempo</th>\n",
              "      <th>time_signature</th>\n",
              "    </tr>\n",
              "  </thead>\n",
              "  <tbody>\n",
              "    <tr>\n",
              "      <th>1</th>\n",
              "      <td>0usLN2VpccZQwWkGLm3Odm</td>\n",
              "      <td>2013 Will Be My Year</td>\n",
              "      <td>0</td>\n",
              "      <td>161045</td>\n",
              "      <td>0</td>\n",
              "      <td>['Jay and Others :&gt;']</td>\n",
              "      <td>['3pwVqfe1xCnGTTnbVjYf74']</td>\n",
              "      <td>4/16/2021</td>\n",
              "      <td>0.347</td>\n",
              "      <td>0.965</td>\n",
              "      <td>10</td>\n",
              "      <td>-6.014</td>\n",
              "      <td>1</td>\n",
              "      <td>0.142</td>\n",
              "      <td>0.0504</td>\n",
              "      <td>0</td>\n",
              "      <td>0.343</td>\n",
              "      <td>0.392</td>\n",
              "      <td>90.987</td>\n",
              "      <td>4</td>\n",
              "    </tr>\n",
              "    <tr>\n",
              "      <th>2</th>\n",
              "      <td>1Nlstdx5q4GVUyaQqHYvqh</td>\n",
              "      <td>Inner City Life - 2020 Remaster</td>\n",
              "      <td>0</td>\n",
              "      <td>422183</td>\n",
              "      <td>0</td>\n",
              "      <td>['Goldie']</td>\n",
              "      <td>['2SYqJ3uDLLXZNyZdLKBy4M']</td>\n",
              "      <td>4/16/2021</td>\n",
              "      <td>0.384</td>\n",
              "      <td>0.889</td>\n",
              "      <td>7</td>\n",
              "      <td>-6.548</td>\n",
              "      <td>1</td>\n",
              "      <td>0.0936</td>\n",
              "      <td>0.00226</td>\n",
              "      <td>0.425</td>\n",
              "      <td>0.0728</td>\n",
              "      <td>0.112</td>\n",
              "      <td>154.886</td>\n",
              "      <td>4</td>\n",
              "    </tr>\n",
              "    <tr>\n",
              "      <th>3</th>\n",
              "      <td>4BvreMl8IerW37NLYtBZ9e</td>\n",
              "      <td>Blow Your Mind (Mwah)</td>\n",
              "      <td>0</td>\n",
              "      <td>178583</td>\n",
              "      <td>0</td>\n",
              "      <td>['Dua Lipa']</td>\n",
              "      <td>['6M2wZ9GZgrQXHCFfjv46we']</td>\n",
              "      <td>4/16/2021</td>\n",
              "      <td>0.677</td>\n",
              "      <td>0.796</td>\n",
              "      <td>2</td>\n",
              "      <td>-4.761</td>\n",
              "      <td>0</td>\n",
              "      <td>0.117</td>\n",
              "      <td>0.0188</td>\n",
              "      <td>0</td>\n",
              "      <td>0.0948</td>\n",
              "      <td>0.494</td>\n",
              "      <td>108.851</td>\n",
              "      <td>4</td>\n",
              "    </tr>\n",
              "    <tr>\n",
              "      <th>4</th>\n",
              "      <td>4K9PNGfQMYnMsY9zEDKDLC</td>\n",
              "      <td>Break My Heart</td>\n",
              "      <td>0</td>\n",
              "      <td>352453</td>\n",
              "      <td>0</td>\n",
              "      <td>['Dua Lipa', 'Moodymann']</td>\n",
              "      <td>['6M2wZ9GZgrQXHCFfjv46we', '6pohviZSNRueSX7uNu...</td>\n",
              "      <td>4/16/2021</td>\n",
              "      <td>0.772</td>\n",
              "      <td>0.637</td>\n",
              "      <td>4</td>\n",
              "      <td>-7.846</td>\n",
              "      <td>0</td>\n",
              "      <td>0.0494</td>\n",
              "      <td>0.022</td>\n",
              "      <td>0.0353</td>\n",
              "      <td>0.0898</td>\n",
              "      <td>0.409</td>\n",
              "      <td>113.022</td>\n",
              "      <td>4</td>\n",
              "    </tr>\n",
              "    <tr>\n",
              "      <th>5</th>\n",
              "      <td>5xZAMT6xqi8sXUHcccwzK2</td>\n",
              "      <td>Love Again</td>\n",
              "      <td>0</td>\n",
              "      <td>258004</td>\n",
              "      <td>0</td>\n",
              "      <td>['Dua Lipa']</td>\n",
              "      <td>['6M2wZ9GZgrQXHCFfjv46we']</td>\n",
              "      <td>4/16/2021</td>\n",
              "      <td>0.659</td>\n",
              "      <td>0.667</td>\n",
              "      <td>11</td>\n",
              "      <td>-4.668</td>\n",
              "      <td>0</td>\n",
              "      <td>0.0339</td>\n",
              "      <td>0.00173</td>\n",
              "      <td>2.85E-05</td>\n",
              "      <td>0.1</td>\n",
              "      <td>0.468</td>\n",
              "      <td>115.982</td>\n",
              "      <td>4</td>\n",
              "    </tr>\n",
              "  </tbody>\n",
              "</table>\n",
              "</div>\n",
              "      <button class=\"colab-df-convert\" onclick=\"convertToInteractive('df-ca4cf52a-901c-4500-a747-79494d65669d')\"\n",
              "              title=\"Convert this dataframe to an interactive table.\"\n",
              "              style=\"display:none;\">\n",
              "        \n",
              "  <svg xmlns=\"http://www.w3.org/2000/svg\" height=\"24px\"viewBox=\"0 0 24 24\"\n",
              "       width=\"24px\">\n",
              "    <path d=\"M0 0h24v24H0V0z\" fill=\"none\"/>\n",
              "    <path d=\"M18.56 5.44l.94 2.06.94-2.06 2.06-.94-2.06-.94-.94-2.06-.94 2.06-2.06.94zm-11 1L8.5 8.5l.94-2.06 2.06-.94-2.06-.94L8.5 2.5l-.94 2.06-2.06.94zm10 10l.94 2.06.94-2.06 2.06-.94-2.06-.94-.94-2.06-.94 2.06-2.06.94z\"/><path d=\"M17.41 7.96l-1.37-1.37c-.4-.4-.92-.59-1.43-.59-.52 0-1.04.2-1.43.59L10.3 9.45l-7.72 7.72c-.78.78-.78 2.05 0 2.83L4 21.41c.39.39.9.59 1.41.59.51 0 1.02-.2 1.41-.59l7.78-7.78 2.81-2.81c.8-.78.8-2.07 0-2.86zM5.41 20L4 18.59l7.72-7.72 1.47 1.35L5.41 20z\"/>\n",
              "  </svg>\n",
              "      </button>\n",
              "      \n",
              "  <style>\n",
              "    .colab-df-container {\n",
              "      display:flex;\n",
              "      flex-wrap:wrap;\n",
              "      gap: 12px;\n",
              "    }\n",
              "\n",
              "    .colab-df-convert {\n",
              "      background-color: #E8F0FE;\n",
              "      border: none;\n",
              "      border-radius: 50%;\n",
              "      cursor: pointer;\n",
              "      display: none;\n",
              "      fill: #1967D2;\n",
              "      height: 32px;\n",
              "      padding: 0 0 0 0;\n",
              "      width: 32px;\n",
              "    }\n",
              "\n",
              "    .colab-df-convert:hover {\n",
              "      background-color: #E2EBFA;\n",
              "      box-shadow: 0px 1px 2px rgba(60, 64, 67, 0.3), 0px 1px 3px 1px rgba(60, 64, 67, 0.15);\n",
              "      fill: #174EA6;\n",
              "    }\n",
              "\n",
              "    [theme=dark] .colab-df-convert {\n",
              "      background-color: #3B4455;\n",
              "      fill: #D2E3FC;\n",
              "    }\n",
              "\n",
              "    [theme=dark] .colab-df-convert:hover {\n",
              "      background-color: #434B5C;\n",
              "      box-shadow: 0px 1px 3px 1px rgba(0, 0, 0, 0.15);\n",
              "      filter: drop-shadow(0px 1px 2px rgba(0, 0, 0, 0.3));\n",
              "      fill: #FFFFFF;\n",
              "    }\n",
              "  </style>\n",
              "\n",
              "      <script>\n",
              "        const buttonEl =\n",
              "          document.querySelector('#df-ca4cf52a-901c-4500-a747-79494d65669d button.colab-df-convert');\n",
              "        buttonEl.style.display =\n",
              "          google.colab.kernel.accessAllowed ? 'block' : 'none';\n",
              "\n",
              "        async function convertToInteractive(key) {\n",
              "          const element = document.querySelector('#df-ca4cf52a-901c-4500-a747-79494d65669d');\n",
              "          const dataTable =\n",
              "            await google.colab.kernel.invokeFunction('convertToInteractive',\n",
              "                                                     [key], {});\n",
              "          if (!dataTable) return;\n",
              "\n",
              "          const docLinkHtml = 'Like what you see? Visit the ' +\n",
              "            '<a target=\"_blank\" href=https://colab.research.google.com/notebooks/data_table.ipynb>data table notebook</a>'\n",
              "            + ' to learn more about interactive tables.';\n",
              "          element.innerHTML = '';\n",
              "          dataTable['output_type'] = 'display_data';\n",
              "          await google.colab.output.renderOutput(dataTable, element);\n",
              "          const docLink = document.createElement('div');\n",
              "          docLink.innerHTML = docLinkHtml;\n",
              "          element.appendChild(docLink);\n",
              "        }\n",
              "      </script>\n",
              "    </div>\n",
              "  </div>\n",
              "  "
            ]
          },
          "metadata": {},
          "execution_count": 2
        }
      ]
    },
    {
      "cell_type": "markdown",
      "source": [
        "## Clean data"
      ],
      "metadata": {
        "id": "0qLdS4NB0v1C"
      }
    },
    {
      "cell_type": "code",
      "source": [
        "data.info()\n",
        "data = data.dropna()"
      ],
      "metadata": {
        "colab": {
          "base_uri": "https://localhost:8080/"
        },
        "id": "UYFxyU5XvhnZ",
        "outputId": "e9d11944-df2b-450e-e355-ffe3722b1bdb"
      },
      "execution_count": null,
      "outputs": [
        {
          "output_type": "stream",
          "name": "stdout",
          "text": [
            "<class 'pandas.core.frame.DataFrame'>\n",
            "RangeIndex: 63760 entries, 1 to 63760\n",
            "Data columns (total 20 columns):\n",
            " #   Column            Non-Null Count  Dtype \n",
            "---  ------            --------------  ----- \n",
            " 0   id                63760 non-null  object\n",
            " 1   name              63760 non-null  object\n",
            " 2   popularity        63760 non-null  object\n",
            " 3   duration_ms       63760 non-null  object\n",
            " 4   explicit          63760 non-null  object\n",
            " 5   artists           63760 non-null  object\n",
            " 6   id_artists        63760 non-null  object\n",
            " 7   release_date      63760 non-null  object\n",
            " 8   danceability      63760 non-null  object\n",
            " 9   energy            63760 non-null  object\n",
            " 10  key               63760 non-null  object\n",
            " 11  loudness          63760 non-null  object\n",
            " 12  mode              63760 non-null  object\n",
            " 13  speechiness       63760 non-null  object\n",
            " 14  acousticness      63760 non-null  object\n",
            " 15  instrumentalness  63760 non-null  object\n",
            " 16  liveness          63760 non-null  object\n",
            " 17  valence           63760 non-null  object\n",
            " 18  tempo             63760 non-null  object\n",
            " 19  time_signature    63760 non-null  object\n",
            "dtypes: object(20)\n",
            "memory usage: 9.7+ MB\n"
          ]
        }
      ]
    },
    {
      "cell_type": "code",
      "source": [
        "data['speechiness']=pd.to_numeric(data['speechiness'])\n",
        "data['acousticness']=pd.to_numeric(data['acousticness'])\n",
        "data['instrumentalness']=pd.to_numeric(data['instrumentalness'])\n",
        "data['danceability']=pd.to_numeric(data['instrumentalness'])\n",
        "data['energy']=pd.to_numeric(data['instrumentalness'])\n",
        "data['liveness']=pd.to_numeric(data['liveness'])\n",
        "data['valence']=pd.to_numeric(data['valence'])\n",
        "data['tempo']=pd.to_numeric(data['tempo'])\n",
        "data['popularity']=pd.to_numeric(data['popularity'])\n",
        "data['explicit']=pd.to_numeric(data['explicit'])\n",
        "data['key']=pd.to_numeric(data['key'])\n",
        "data['mode']=pd.to_numeric(data['mode'])\n",
        "data['loudness']=pd.to_numeric(data['loudness'])\n",
        "data['time_signature']=pd.to_numeric(data['time_signature'])\n",
        "data['duration_ms']=pd.to_numeric(data['duration_ms'])\n",
        "\n",
        "data.info()"
      ],
      "metadata": {
        "colab": {
          "base_uri": "https://localhost:8080/"
        },
        "id": "LcekAPlvvXRT",
        "outputId": "5d748ff1-64a7-4f21-de33-4770c2f816aa"
      },
      "execution_count": null,
      "outputs": [
        {
          "output_type": "stream",
          "name": "stdout",
          "text": [
            "<class 'pandas.core.frame.DataFrame'>\n",
            "Int64Index: 63760 entries, 1 to 63760\n",
            "Data columns (total 20 columns):\n",
            " #   Column            Non-Null Count  Dtype  \n",
            "---  ------            --------------  -----  \n",
            " 0   id                63760 non-null  object \n",
            " 1   name              63760 non-null  object \n",
            " 2   popularity        63760 non-null  int64  \n",
            " 3   duration_ms       63760 non-null  int64  \n",
            " 4   explicit          63760 non-null  int64  \n",
            " 5   artists           63760 non-null  object \n",
            " 6   id_artists        63760 non-null  object \n",
            " 7   release_date      63760 non-null  object \n",
            " 8   danceability      63760 non-null  float64\n",
            " 9   energy            63760 non-null  float64\n",
            " 10  key               63760 non-null  int64  \n",
            " 11  loudness          63760 non-null  float64\n",
            " 12  mode              63760 non-null  int64  \n",
            " 13  speechiness       63760 non-null  float64\n",
            " 14  acousticness      63760 non-null  float64\n",
            " 15  instrumentalness  63760 non-null  float64\n",
            " 16  liveness          63760 non-null  float64\n",
            " 17  valence           63760 non-null  float64\n",
            " 18  tempo             63760 non-null  float64\n",
            " 19  time_signature    63760 non-null  int64  \n",
            "dtypes: float64(9), int64(6), object(5)\n",
            "memory usage: 10.2+ MB\n"
          ]
        }
      ]
    },
    {
      "cell_type": "markdown",
      "source": [
        "### Remove non-numerical columns"
      ],
      "metadata": {
        "id": "khOmrYkQ0z-a"
      }
    },
    {
      "cell_type": "code",
      "source": [
        "df = data\n",
        "\n",
        "df_quantitative = df\n",
        "cols_to_drop = []\n",
        "for column in df:\n",
        "    if df[column].dtype == 'object':\n",
        "        cols_to_drop.append(column)\n",
        "df_quantitative = df.drop(columns=cols_to_drop)\n",
        "\n",
        "print(f\"Working dataset shape: {df_quantitative.shape}\")"
      ],
      "metadata": {
        "colab": {
          "base_uri": "https://localhost:8080/"
        },
        "id": "hPBecJhHwHrq",
        "outputId": "9e81c6f7-540c-4b93-9eab-72900121e1ae"
      },
      "execution_count": null,
      "outputs": [
        {
          "output_type": "stream",
          "name": "stdout",
          "text": [
            "Working dataset shape: (63760, 15)\n"
          ]
        }
      ]
    },
    {
      "cell_type": "markdown",
      "source": [
        "## Explore data"
      ],
      "metadata": {
        "id": "VdecdKur05Li"
      }
    },
    {
      "cell_type": "markdown",
      "source": [
        "### Feature correlation matrix"
      ],
      "metadata": {
        "id": "8B1UUsQO07xJ"
      }
    },
    {
      "cell_type": "code",
      "source": [
        "if not os.path.exists('figs'):\n",
        "    os.makedirs('figs')\n",
        "\n",
        "plt.figure(1)\n",
        "pd.set_option(\"display.max_rows\", 25, \"display.max_columns\", None)\n",
        "\n",
        "plt.matshow(data.corr())\n",
        "\n",
        "labs = df_quantitative.columns\n",
        "plt.xticks(range(0, 15), labs, rotation=79) \n",
        "plt.yticks(range(0, 15), labs, rotation=30)\n",
        "plt.colorbar(shrink=0.75)\n",
        "\n",
        "fname = os.path.join(\".\", \"figs\", \"correlation_matrix_graph.png\")\n",
        "plt.savefig(fname)"
      ],
      "metadata": {
        "colab": {
          "base_uri": "https://localhost:8080/",
          "height": 384
        },
        "id": "wmM-bODm0Eoe",
        "outputId": "3257e195-61c9-4b95-f0f4-6720c015c762"
      },
      "execution_count": null,
      "outputs": [
        {
          "output_type": "display_data",
          "data": {
            "text/plain": [
              "<Figure size 432x288 with 0 Axes>"
            ]
          },
          "metadata": {}
        },
        {
          "output_type": "display_data",
          "data": {
            "text/plain": [
              "<Figure size 288x288 with 2 Axes>"
            ],
            "image/png": "[encoded data removed]"
          },
          "metadata": {
            "needs_background": "light"
          }
        }
      ]
    },
    {
      "cell_type": "markdown",
      "source": [
        "### Feature Correlation Bar Plot"
      ],
      "metadata": {
        "id": "DpzhIzpe0-7x"
      }
    },
    {
      "cell_type": "code",
      "source": [
        "correlations = data.copy().corr()['popularity']\n",
        "correlations = correlations.sort_values(ascending=False).drop('popularity',axis=0)\n",
        "print(correlations)\n",
        "correlations.to_frame().plot.bar();"
      ],
      "metadata": {
        "colab": {
          "base_uri": "https://localhost:8080/",
          "height": 656
        },
        "id": "ZAsvp7HkU3_i",
        "outputId": "87a8388c-4ec2-4029-f094-06fa066bc1bb"
      },
      "execution_count": null,
      "outputs": [
        {
          "output_type": "stream",
          "name": "stdout",
          "text": [
            "0\n",
            "explicit            0.195994\n",
            "acousticness        0.128349\n",
            "loudness            0.127583\n",
            "valence             0.085223\n",
            "speechiness         0.063247\n",
            "time_signature      0.008059\n",
            "mode               -0.006425\n",
            "key                -0.007904\n",
            "tempo              -0.027810\n",
            "duration_ms        -0.097935\n",
            "liveness           -0.143241\n",
            "danceability       -0.383765\n",
            "energy             -0.383765\n",
            "instrumentalness   -0.383765\n",
            "Name: popularity, dtype: float64\n"
          ]
        },
        {
          "output_type": "display_data",
          "data": {
            "text/plain": [
              "<Figure size 432x288 with 1 Axes>"
            ],
            "image/png": "[encoded data removed]"
          },
          "metadata": {
            "needs_background": "light"
          }
        }
      ]
    },
    {
      "cell_type": "markdown",
      "source": [
        "### Normalization of data"
      ],
      "metadata": {
        "id": "17SE7tgP1C9y"
      }
    },
    {
      "cell_type": "code",
      "source": [
        "norm_data = (df_quantitative-df_quantitative.min())/(df_quantitative.max()-df_quantitative.min())\n"
      ],
      "metadata": {
        "id": "K7OC6WHjxbki"
      },
      "execution_count": null,
      "outputs": []
    },
    {
      "cell_type": "markdown",
      "source": [
        "### Split data into train, test and validation sets"
      ],
      "metadata": {
        "id": "xEvTBP3u1HxK"
      }
    },
    {
      "cell_type": "code",
      "source": [
        "np.random.seed(1)\n",
        "\n",
        "df_train_full = norm_data.sample(frac=0.8,random_state=1) #random state is a seed value\n",
        "df_test = norm_data.drop(df_train_full.index)\n",
        "\n",
        "df_validation = df_train_full.sample(frac=0.2,random_state=2) # create a validation set from training set\n",
        "df_train = df_train_full.drop(df_validation.index)"
      ],
      "metadata": {
        "id": "oHpjpANtxf4S"
      },
      "execution_count": null,
      "outputs": []
    },
    {
      "cell_type": "code",
      "source": [
        "import numpy as np\n",
        "\n",
        "X_train = df_train.drop(columns=['popularity'])\n",
        "y_train = df_train[['popularity']].values.ravel()\n",
        "\n",
        "X_val = df_validation.drop(columns=['popularity'])\n",
        "y_val = df_validation[['popularity']].values.ravel()\n",
        "\n",
        "X_test = df_test.drop(columns=['popularity'])\n",
        "y_test = df_test[['popularity']].values.ravel()"
      ],
      "metadata": {
        "id": "Frs25pQaxxdz"
      },
      "execution_count": null,
      "outputs": []
    },
    {
      "cell_type": "code",
      "source": [
        "X_train.shape, X_val.shape, X_test.shape"
      ],
      "metadata": {
        "colab": {
          "base_uri": "https://localhost:8080/"
        },
        "id": "waDlRffazc8B",
        "outputId": "0b4ecd8a-a51f-4f01-b9dd-1f734922b98b"
      },
      "execution_count": null,
      "outputs": [
        {
          "output_type": "execute_result",
          "data": {
            "text/plain": [
              "((40806, 14), (10202, 14), (12752, 14))"
            ]
          },
          "metadata": {},
          "execution_count": 11
        }
      ]
    },
    {
      "cell_type": "code",
      "source": [
        "y_train.shape, y_val.shape, y_test.shape"
      ],
      "metadata": {
        "colab": {
          "base_uri": "https://localhost:8080/"
        },
        "id": "9sCH79U9KwTh",
        "outputId": "1af3e989-2a3e-404b-a06b-29c95a6f6f1a"
      },
      "execution_count": null,
      "outputs": [
        {
          "output_type": "execute_result",
          "data": {
            "text/plain": [
              "((40806,), (10202,), (12752,))"
            ]
          },
          "metadata": {},
          "execution_count": 12
        }
      ]
    },
    {
      "cell_type": "markdown",
      "source": [
        "### Function to calculate prediction error"
      ],
      "metadata": {
        "id": "vQNRJUg51OGi"
      }
    },
    {
      "cell_type": "code",
      "source": [
        "def calculate_error(Y_pred, Y_actual):\n",
        "    error = 0\n",
        "    for i in range(len(Y_pred)):\n",
        "        error += abs(Y_pred[i] - Y_actual[i])**2\n",
        "    return error / len(Y_pred)"
      ],
      "metadata": {
        "id": "-EMKcSx7zTWE"
      },
      "execution_count": null,
      "outputs": []
    },
    {
      "cell_type": "markdown",
      "source": [
        "# K Nearest Neighbors"
      ],
      "metadata": {
        "id": "v1_s-vgu1UKB"
      }
    },
    {
      "cell_type": "code",
      "source": [
        "from sklearn.neighbors import KNeighborsRegressor #like KNN, but for continuous data\n",
        "from sklearn import preprocessing\n",
        "\n",
        "k_errors = [np.inf] # k=0 should have infinite error\n",
        "for k in range(1,25):\n",
        "    model = KNeighborsRegressor(n_neighbors=k)\n",
        "    model.fit(X_train, y_train) \n",
        "    Y_val_pred = model.predict(X_val)\n",
        "    k_errors.append(calculate_error(Y_val_pred, y_val))"
      ],
      "metadata": {
        "id": "UYhppMe9zqVD"
      },
      "execution_count": null,
      "outputs": []
    },
    {
      "cell_type": "code",
      "source": [
        "from sklearn.model_selection import cross_validate\n",
        "cv_results = cross_validate(model, X_train, y_train, cv=3)\n"
      ],
      "metadata": {
        "id": "HrxxEy0ZzqbD"
      },
      "execution_count": null,
      "outputs": []
    },
    {
      "cell_type": "code",
      "source": [
        "cv_results"
      ],
      "metadata": {
        "colab": {
          "base_uri": "https://localhost:8080/"
        },
        "id": "CNhp5DNisAjD",
        "outputId": "0b46469e-6aa5-4211-f0a9-b9ea430d6edb"
      },
      "execution_count": null,
      "outputs": [
        {
          "output_type": "execute_result",
          "data": {
            "text/plain": [
              "{'fit_time': array([0.105093  , 0.08226275, 0.17801023]),\n",
              " 'score_time': array([4.97116137, 3.84001565, 2.06427979]),\n",
              " 'test_score': array([0.22423437, 0.232453  , 0.23025448])}"
            ]
          },
          "metadata": {},
          "execution_count": 16
        }
      ]
    },
    {
      "cell_type": "code",
      "source": [
        "\n",
        "if not os.path.exists('figs'):\n",
        "    os.makedirs('figs')\n",
        "\n",
        "plt.scatter(x=range(len(k_errors)), \n",
        "            y=k_errors)\n",
        "plt.xlabel('value of k')\n",
        "plt.ylabel('error')\n",
        "plt.title('Error values for different k values on a KNN classifier')\n",
        "plt.grid(axis='both',alpha=0.5)\n",
        "\n",
        "fname = os.path.join(\".\", \"figs\", \"k_values.png\")\n",
        "plt.savefig(fname)\n"
      ],
      "metadata": {
        "colab": {
          "base_uri": "https://localhost:8080/",
          "height": 302
        },
        "id": "zbu__hSZqCmH",
        "outputId": "6c27cf81-e217-4756-9287-2d727cd73a88"
      },
      "execution_count": null,
      "outputs": [
        {
          "output_type": "display_data",
          "data": {
            "text/plain": [
              "<Figure size 432x288 with 1 Axes>"
            ],
            "image/png": "[encoded data removed]"
          },
          "metadata": {
            "needs_background": "light"
          }
        }
      ]
    },
    {
      "cell_type": "code",
      "source": [
        "k=7\n",
        "model = KNeighborsRegressor(n_neighbors=k)\n",
        "model.fit(X_train, y_train) \n",
        "Y_pred = model.predict(X_test)\n",
        "k_error_final = calculate_error(Y_pred, y_test)\n",
        "print(f\"testing error is {k_error_final}\\n\\n\")"
      ],
      "metadata": {
        "colab": {
          "base_uri": "https://localhost:8080/"
        },
        "id": "F__E7GXJvLwj",
        "outputId": "f8859b7d-1d91-4b02-c1ce-b9301c870047"
      },
      "execution_count": null,
      "outputs": [
        {
          "output_type": "stream",
          "name": "stdout",
          "text": [
            "testing error is 0.038974600222772764\n",
            "\n",
            "\n"
          ]
        }
      ]
    },
    {
      "cell_type": "code",
      "source": [
        "print(cross_validate(model, X_train, y_train, cv=3))"
      ],
      "metadata": {
        "colab": {
          "base_uri": "https://localhost:8080/"
        },
        "id": "44T8mGCup2lc",
        "outputId": "348102be-3215-4c12-a791-de3db49c2507"
      },
      "execution_count": null,
      "outputs": [
        {
          "output_type": "stream",
          "name": "stdout",
          "text": [
            "{'fit_time': array([0.06630707, 0.05726123, 0.05536652]), 'score_time': array([1.7193954 , 1.73100972, 1.66730499]), 'test_score': array([0.20108141, 0.21503333, 0.20062183])}\n"
          ]
        }
      ]
    },
    {
      "cell_type": "code",
      "source": [
        "from sklearn.model_selection import cross_val_score\n",
        "accuracy = cross_val_score(model, X_test, y_test, scoring='accuracy', cv = 10)\n",
        "print(accuracy)"
      ],
      "metadata": {
        "id": "tFVwr7u1SRC1"
      },
      "execution_count": null,
      "outputs": []
    },
    {
      "cell_type": "code",
      "source": [
        "test_labels = y_test\n",
        "\n",
        "error = k_error_final - y_test\n",
        "plt.hist(error, bins = 50)\n",
        "plt.xlabel(\"Prediction Error KNN [popularity]\")\n",
        "_ = plt.ylabel(\"Count\")"
      ],
      "metadata": {
        "colab": {
          "base_uri": "https://localhost:8080/",
          "height": 286
        },
        "id": "B5fAFlmVOPt7",
        "outputId": "e94b25ef-f10d-4718-c595-83e6e9366ea5"
      },
      "execution_count": null,
      "outputs": [
        {
          "output_type": "display_data",
          "data": {
            "text/plain": [
              "<Figure size 432x288 with 1 Axes>"
            ],
            "image/png": "[encoded data removed]"
          },
          "metadata": {
            "needs_background": "light"
          }
        }
      ]
    },
    {
      "cell_type": "code",
      "source": [
        "plt.scatter(y_test, Y_pred, alpha=0.05)\n",
        "plt.xlabel('True Values [popularity]')\n",
        "plt.ylabel('Predictions [popularity]')\n",
        "plt.axis('square')\n",
        "plt.xlim([0,plt.xlim()[1]])\n",
        "plt.ylim([0,plt.ylim()[1]])\n",
        "_ = plt.plot()"
      ],
      "metadata": {
        "colab": {
          "base_uri": "https://localhost:8080/",
          "height": 286
        },
        "id": "a_FFGSzUHGNr",
        "outputId": "87283e72-ca2b-4387-ec17-88d3ca1d29ff"
      },
      "execution_count": null,
      "outputs": [
        {
          "output_type": "display_data",
          "data": {
            "text/plain": [
              "<Figure size 432x288 with 1 Axes>"
            ],
            "image/png": "[encoded data removed]"
          },
          "metadata": {
            "needs_background": "light"
          }
        }
      ]
    },
    {
      "cell_type": "code",
      "source": [
        "y_test[10:]"
      ],
      "metadata": {
        "colab": {
          "base_uri": "https://localhost:8080/"
        },
        "id": "RGlP9fz-L31S",
        "outputId": "dc0f0211-2c04-4aeb-c6d2-6fd2ce819f19"
      },
      "execution_count": null,
      "outputs": [
        {
          "output_type": "execute_result",
          "data": {
            "text/plain": [
              "array([0.  , 0.  , 0.  , ..., 0.39, 0.4 , 0.54])"
            ]
          },
          "metadata": {},
          "execution_count": 22
        }
      ]
    },
    {
      "cell_type": "code",
      "source": [
        "Y_pred[10:]"
      ],
      "metadata": {
        "colab": {
          "base_uri": "https://localhost:8080/"
        },
        "id": "GnHoaIumKIrG",
        "outputId": "e30d42ff-ae3e-4e1e-fe4e-c23774734c65"
      },
      "execution_count": null,
      "outputs": [
        {
          "output_type": "execute_result",
          "data": {
            "text/plain": [
              "array([0.42571429, 0.42571429, 0.45857143, ..., 0.50142857, 0.48571429,\n",
              "       0.46285714])"
            ]
          },
          "metadata": {},
          "execution_count": 23
        }
      ]
    },
    {
      "cell_type": "markdown",
      "source": [
        "# Support Vector Regression"
      ],
      "metadata": {
        "id": "K-BOY8Fj1Xya"
      }
    },
    {
      "cell_type": "code",
      "source": [
        "from sklearn.svm import SVR\n",
        "from sklearn.pipeline import make_pipeline\n",
        "from sklearn.preprocessing import StandardScaler\n",
        "\n",
        "svr_model = make_pipeline(StandardScaler(), SVR(C=1.0, epsilon=0.2))\n",
        "svr_model.fit(X_train, y_train)"
      ],
      "metadata": {
        "colab": {
          "base_uri": "https://localhost:8080/"
        },
        "id": "vvfFx5Vpnh6M",
        "outputId": "38249879-54f7-4e17-b2d4-ee7714a5c260"
      },
      "execution_count": null,
      "outputs": [
        {
          "output_type": "execute_result",
          "data": {
            "text/plain": [
              "Pipeline(steps=[('standardscaler', StandardScaler()),\n",
              "                ('svr', SVR(epsilon=0.2))])"
            ]
          },
          "metadata": {},
          "execution_count": 24
        }
      ]
    },
    {
      "cell_type": "code",
      "source": [
        "Y_val_pred_svr = svr_model.predict(X_val)\n",
        "svr_error = calculate_error(Y_val_pred_svr, y_val)"
      ],
      "metadata": {
        "id": "EVT-EH1NuLzZ"
      },
      "execution_count": null,
      "outputs": []
    },
    {
      "cell_type": "code",
      "source": [
        "print(svr_error)"
      ],
      "metadata": {
        "colab": {
          "base_uri": "https://localhost:8080/"
        },
        "id": "f7c2j2j1u1-6",
        "outputId": "7b121918-c068-4547-ea97-2c546fdd1299"
      },
      "execution_count": null,
      "outputs": [
        {
          "output_type": "stream",
          "name": "stdout",
          "text": [
            "0.03639659037734575\n"
          ]
        }
      ]
    },
    {
      "cell_type": "code",
      "source": [
        "print(cross_validate(svr_model, X_train, y_train, cv=3))"
      ],
      "metadata": {
        "colab": {
          "base_uri": "https://localhost:8080/"
        },
        "id": "UzR_HN04qC1u",
        "outputId": "983ec321-3a10-4238-e02b-ce0831beb667"
      },
      "execution_count": null,
      "outputs": [
        {
          "output_type": "stream",
          "name": "stdout",
          "text": [
            "{'fit_time': array([24.08158088, 21.61488724, 22.96676278]), 'score_time': array([7.58041525, 7.71624923, 7.80913711]), 'test_score': array([0.2563152 , 0.27636158, 0.26131039])}\n"
          ]
        }
      ]
    },
    {
      "cell_type": "code",
      "source": [
        "from sklearn.model_selection import cross_val_score\n",
        "accuracy = cross_val_score(svr_model, X_test, y_test, scoring='accuracy', cv = 10)\n",
        "print(accuracy)"
      ],
      "metadata": {
        "colab": {
          "base_uri": "https://localhost:8080/"
        },
        "id": "dfURq8A7Sa4s",
        "outputId": "8b49018f-f861-48db-fbdb-a700817add1a"
      },
      "execution_count": null,
      "outputs": [
        {
          "output_type": "stream",
          "name": "stderr",
          "text": [
            "/usr/local/lib/python3.7/dist-packages/sklearn/model_selection/_validation.py:774: UserWarning: Scoring failed. The score on this train-test partition for these parameters will be set to nan. Details: \n",
            "Traceback (most recent call last):\n",
            "  File \"/usr/local/lib/python3.7/dist-packages/sklearn/model_selection/_validation.py\", line 761, in _score\n",
            "    scores = scorer(estimator, X_test, y_test)\n",
            "  File \"/usr/local/lib/python3.7/dist-packages/sklearn/metrics/_scorer.py\", line 103, in __call__\n",
            "    score = scorer._score(cached_call, estimator, *args, **kwargs)\n",
            "  File \"/usr/local/lib/python3.7/dist-packages/sklearn/metrics/_scorer.py\", line 264, in _score\n",
            "    return self._sign * self._score_func(y_true, y_pred, **self._kwargs)\n",
            "  File \"/usr/local/lib/python3.7/dist-packages/sklearn/metrics/_classification.py\", line 211, in accuracy_score\n",
            "    y_type, y_true, y_pred = _check_targets(y_true, y_pred)\n",
            "  File \"/usr/local/lib/python3.7/dist-packages/sklearn/metrics/_classification.py\", line 104, in _check_targets\n",
            "    raise ValueError(\"{0} is not supported\".format(y_type))\n",
            "ValueError: continuous is not supported\n",
            "\n",
            "  UserWarning,\n",
            "/usr/local/lib/python3.7/dist-packages/sklearn/model_selection/_validation.py:774: UserWarning: Scoring failed. The score on this train-test partition for these parameters will be set to nan. Details: \n",
            "Traceback (most recent call last):\n",
            "  File \"/usr/local/lib/python3.7/dist-packages/sklearn/model_selection/_validation.py\", line 761, in _score\n",
            "    scores = scorer(estimator, X_test, y_test)\n",
            "  File \"/usr/local/lib/python3.7/dist-packages/sklearn/metrics/_scorer.py\", line 103, in __call__\n",
            "    score = scorer._score(cached_call, estimator, *args, **kwargs)\n",
            "  File \"/usr/local/lib/python3.7/dist-packages/sklearn/metrics/_scorer.py\", line 264, in _score\n",
            "    return self._sign * self._score_func(y_true, y_pred, **self._kwargs)\n",
            "  File \"/usr/local/lib/python3.7/dist-packages/sklearn/metrics/_classification.py\", line 211, in accuracy_score\n",
            "    y_type, y_true, y_pred = _check_targets(y_true, y_pred)\n",
            "  File \"/usr/local/lib/python3.7/dist-packages/sklearn/metrics/_classification.py\", line 104, in _check_targets\n",
            "    raise ValueError(\"{0} is not supported\".format(y_type))\n",
            "ValueError: continuous is not supported\n",
            "\n",
            "  UserWarning,\n",
            "/usr/local/lib/python3.7/dist-packages/sklearn/model_selection/_validation.py:774: UserWarning: Scoring failed. The score on this train-test partition for these parameters will be set to nan. Details: \n",
            "Traceback (most recent call last):\n",
            "  File \"/usr/local/lib/python3.7/dist-packages/sklearn/model_selection/_validation.py\", line 761, in _score\n",
            "    scores = scorer(estimator, X_test, y_test)\n",
            "  File \"/usr/local/lib/python3.7/dist-packages/sklearn/metrics/_scorer.py\", line 103, in __call__\n",
            "    score = scorer._score(cached_call, estimator, *args, **kwargs)\n",
            "  File \"/usr/local/lib/python3.7/dist-packages/sklearn/metrics/_scorer.py\", line 264, in _score\n",
            "    return self._sign * self._score_func(y_true, y_pred, **self._kwargs)\n",
            "  File \"/usr/local/lib/python3.7/dist-packages/sklearn/metrics/_classification.py\", line 211, in accuracy_score\n",
            "    y_type, y_true, y_pred = _check_targets(y_true, y_pred)\n",
            "  File \"/usr/local/lib/python3.7/dist-packages/sklearn/metrics/_classification.py\", line 104, in _check_targets\n",
            "    raise ValueError(\"{0} is not supported\".format(y_type))\n",
            "ValueError: continuous is not supported\n",
            "\n",
            "  UserWarning,\n",
            "/usr/local/lib/python3.7/dist-packages/sklearn/model_selection/_validation.py:774: UserWarning: Scoring failed. The score on this train-test partition for these parameters will be set to nan. Details: \n",
            "Traceback (most recent call last):\n",
            "  File \"/usr/local/lib/python3.7/dist-packages/sklearn/model_selection/_validation.py\", line 761, in _score\n",
            "    scores = scorer(estimator, X_test, y_test)\n",
            "  File \"/usr/local/lib/python3.7/dist-packages/sklearn/metrics/_scorer.py\", line 103, in __call__\n",
            "    score = scorer._score(cached_call, estimator, *args, **kwargs)\n",
            "  File \"/usr/local/lib/python3.7/dist-packages/sklearn/metrics/_scorer.py\", line 264, in _score\n",
            "    return self._sign * self._score_func(y_true, y_pred, **self._kwargs)\n",
            "  File \"/usr/local/lib/python3.7/dist-packages/sklearn/metrics/_classification.py\", line 211, in accuracy_score\n",
            "    y_type, y_true, y_pred = _check_targets(y_true, y_pred)\n",
            "  File \"/usr/local/lib/python3.7/dist-packages/sklearn/metrics/_classification.py\", line 104, in _check_targets\n",
            "    raise ValueError(\"{0} is not supported\".format(y_type))\n",
            "ValueError: continuous is not supported\n",
            "\n",
            "  UserWarning,\n",
            "/usr/local/lib/python3.7/dist-packages/sklearn/model_selection/_validation.py:774: UserWarning: Scoring failed. The score on this train-test partition for these parameters will be set to nan. Details: \n",
            "Traceback (most recent call last):\n",
            "  File \"/usr/local/lib/python3.7/dist-packages/sklearn/model_selection/_validation.py\", line 761, in _score\n",
            "    scores = scorer(estimator, X_test, y_test)\n",
            "  File \"/usr/local/lib/python3.7/dist-packages/sklearn/metrics/_scorer.py\", line 103, in __call__\n",
            "    score = scorer._score(cached_call, estimator, *args, **kwargs)\n",
            "  File \"/usr/local/lib/python3.7/dist-packages/sklearn/metrics/_scorer.py\", line 264, in _score\n",
            "    return self._sign * self._score_func(y_true, y_pred, **self._kwargs)\n",
            "  File \"/usr/local/lib/python3.7/dist-packages/sklearn/metrics/_classification.py\", line 211, in accuracy_score\n",
            "    y_type, y_true, y_pred = _check_targets(y_true, y_pred)\n",
            "  File \"/usr/local/lib/python3.7/dist-packages/sklearn/metrics/_classification.py\", line 104, in _check_targets\n",
            "    raise ValueError(\"{0} is not supported\".format(y_type))\n",
            "ValueError: continuous is not supported\n",
            "\n",
            "  UserWarning,\n",
            "/usr/local/lib/python3.7/dist-packages/sklearn/model_selection/_validation.py:774: UserWarning: Scoring failed. The score on this train-test partition for these parameters will be set to nan. Details: \n",
            "Traceback (most recent call last):\n",
            "  File \"/usr/local/lib/python3.7/dist-packages/sklearn/model_selection/_validation.py\", line 761, in _score\n",
            "    scores = scorer(estimator, X_test, y_test)\n",
            "  File \"/usr/local/lib/python3.7/dist-packages/sklearn/metrics/_scorer.py\", line 103, in __call__\n",
            "    score = scorer._score(cached_call, estimator, *args, **kwargs)\n",
            "  File \"/usr/local/lib/python3.7/dist-packages/sklearn/metrics/_scorer.py\", line 264, in _score\n",
            "    return self._sign * self._score_func(y_true, y_pred, **self._kwargs)\n",
            "  File \"/usr/local/lib/python3.7/dist-packages/sklearn/metrics/_classification.py\", line 211, in accuracy_score\n",
            "    y_type, y_true, y_pred = _check_targets(y_true, y_pred)\n",
            "  File \"/usr/local/lib/python3.7/dist-packages/sklearn/metrics/_classification.py\", line 104, in _check_targets\n",
            "    raise ValueError(\"{0} is not supported\".format(y_type))\n",
            "ValueError: continuous is not supported\n",
            "\n",
            "  UserWarning,\n",
            "/usr/local/lib/python3.7/dist-packages/sklearn/model_selection/_validation.py:774: UserWarning: Scoring failed. The score on this train-test partition for these parameters will be set to nan. Details: \n",
            "Traceback (most recent call last):\n",
            "  File \"/usr/local/lib/python3.7/dist-packages/sklearn/model_selection/_validation.py\", line 761, in _score\n",
            "    scores = scorer(estimator, X_test, y_test)\n",
            "  File \"/usr/local/lib/python3.7/dist-packages/sklearn/metrics/_scorer.py\", line 103, in __call__\n",
            "    score = scorer._score(cached_call, estimator, *args, **kwargs)\n",
            "  File \"/usr/local/lib/python3.7/dist-packages/sklearn/metrics/_scorer.py\", line 264, in _score\n",
            "    return self._sign * self._score_func(y_true, y_pred, **self._kwargs)\n",
            "  File \"/usr/local/lib/python3.7/dist-packages/sklearn/metrics/_classification.py\", line 211, in accuracy_score\n",
            "    y_type, y_true, y_pred = _check_targets(y_true, y_pred)\n",
            "  File \"/usr/local/lib/python3.7/dist-packages/sklearn/metrics/_classification.py\", line 104, in _check_targets\n",
            "    raise ValueError(\"{0} is not supported\".format(y_type))\n",
            "ValueError: continuous is not supported\n",
            "\n",
            "  UserWarning,\n",
            "/usr/local/lib/python3.7/dist-packages/sklearn/model_selection/_validation.py:774: UserWarning: Scoring failed. The score on this train-test partition for these parameters will be set to nan. Details: \n",
            "Traceback (most recent call last):\n",
            "  File \"/usr/local/lib/python3.7/dist-packages/sklearn/model_selection/_validation.py\", line 761, in _score\n",
            "    scores = scorer(estimator, X_test, y_test)\n",
            "  File \"/usr/local/lib/python3.7/dist-packages/sklearn/metrics/_scorer.py\", line 103, in __call__\n",
            "    score = scorer._score(cached_call, estimator, *args, **kwargs)\n",
            "  File \"/usr/local/lib/python3.7/dist-packages/sklearn/metrics/_scorer.py\", line 264, in _score\n",
            "    return self._sign * self._score_func(y_true, y_pred, **self._kwargs)\n",
            "  File \"/usr/local/lib/python3.7/dist-packages/sklearn/metrics/_classification.py\", line 211, in accuracy_score\n",
            "    y_type, y_true, y_pred = _check_targets(y_true, y_pred)\n",
            "  File \"/usr/local/lib/python3.7/dist-packages/sklearn/metrics/_classification.py\", line 104, in _check_targets\n",
            "    raise ValueError(\"{0} is not supported\".format(y_type))\n",
            "ValueError: continuous is not supported\n",
            "\n",
            "  UserWarning,\n",
            "/usr/local/lib/python3.7/dist-packages/sklearn/model_selection/_validation.py:774: UserWarning: Scoring failed. The score on this train-test partition for these parameters will be set to nan. Details: \n",
            "Traceback (most recent call last):\n",
            "  File \"/usr/local/lib/python3.7/dist-packages/sklearn/model_selection/_validation.py\", line 761, in _score\n",
            "    scores = scorer(estimator, X_test, y_test)\n",
            "  File \"/usr/local/lib/python3.7/dist-packages/sklearn/metrics/_scorer.py\", line 103, in __call__\n",
            "    score = scorer._score(cached_call, estimator, *args, **kwargs)\n",
            "  File \"/usr/local/lib/python3.7/dist-packages/sklearn/metrics/_scorer.py\", line 264, in _score\n",
            "    return self._sign * self._score_func(y_true, y_pred, **self._kwargs)\n",
            "  File \"/usr/local/lib/python3.7/dist-packages/sklearn/metrics/_classification.py\", line 211, in accuracy_score\n",
            "    y_type, y_true, y_pred = _check_targets(y_true, y_pred)\n",
            "  File \"/usr/local/lib/python3.7/dist-packages/sklearn/metrics/_classification.py\", line 104, in _check_targets\n",
            "    raise ValueError(\"{0} is not supported\".format(y_type))\n",
            "ValueError: continuous is not supported\n",
            "\n",
            "  UserWarning,\n"
          ]
        },
        {
          "output_type": "stream",
          "name": "stdout",
          "text": [
            "[nan nan nan nan nan nan nan nan nan nan]\n"
          ]
        },
        {
          "output_type": "stream",
          "name": "stderr",
          "text": [
            "/usr/local/lib/python3.7/dist-packages/sklearn/model_selection/_validation.py:774: UserWarning: Scoring failed. The score on this train-test partition for these parameters will be set to nan. Details: \n",
            "Traceback (most recent call last):\n",
            "  File \"/usr/local/lib/python3.7/dist-packages/sklearn/model_selection/_validation.py\", line 761, in _score\n",
            "    scores = scorer(estimator, X_test, y_test)\n",
            "  File \"/usr/local/lib/python3.7/dist-packages/sklearn/metrics/_scorer.py\", line 103, in __call__\n",
            "    score = scorer._score(cached_call, estimator, *args, **kwargs)\n",
            "  File \"/usr/local/lib/python3.7/dist-packages/sklearn/metrics/_scorer.py\", line 264, in _score\n",
            "    return self._sign * self._score_func(y_true, y_pred, **self._kwargs)\n",
            "  File \"/usr/local/lib/python3.7/dist-packages/sklearn/metrics/_classification.py\", line 211, in accuracy_score\n",
            "    y_type, y_true, y_pred = _check_targets(y_true, y_pred)\n",
            "  File \"/usr/local/lib/python3.7/dist-packages/sklearn/metrics/_classification.py\", line 104, in _check_targets\n",
            "    raise ValueError(\"{0} is not supported\".format(y_type))\n",
            "ValueError: continuous is not supported\n",
            "\n",
            "  UserWarning,\n"
          ]
        }
      ]
    },
    {
      "cell_type": "code",
      "source": [
        "test_labels = y_test\n",
        "\n",
        "error = Y_val_pred_svr - y_test\n",
        "plt.hist(error, bins = 50)\n",
        "plt.xlabel(\"Prediction Error SVR[popularity]\")\n",
        "_ = plt.ylabel(\"Count\")"
      ],
      "metadata": {
        "colab": {
          "base_uri": "https://localhost:8080/",
          "height": 235
        },
        "id": "2Ub4UgrGNbdC",
        "outputId": "b060094f-3746-43e2-e595-72570fce23f4"
      },
      "execution_count": null,
      "outputs": [
        {
          "output_type": "error",
          "ename": "ValueError",
          "evalue": "ignored",
          "traceback": [
            "\u001b[0;31m---------------------------------------------------------------------------\u001b[0m",
            "\u001b[0;31mValueError\u001b[0m                                Traceback (most recent call last)",
            "\u001b[0;32m<ipython-input-28-b637ddcd32b3>\u001b[0m in \u001b[0;36m<module>\u001b[0;34m()\u001b[0m\n\u001b[1;32m      1\u001b[0m \u001b[0mtest_labels\u001b[0m \u001b[0;34m=\u001b[0m \u001b[0my_test\u001b[0m\u001b[0;34m\u001b[0m\u001b[0;34m\u001b[0m\u001b[0m\n\u001b[1;32m      2\u001b[0m \u001b[0;34m\u001b[0m\u001b[0m\n\u001b[0;32m----> 3\u001b[0;31m \u001b[0merror\u001b[0m \u001b[0;34m=\u001b[0m \u001b[0mY_val_pred_svr\u001b[0m \u001b[0;34m-\u001b[0m \u001b[0my_test\u001b[0m\u001b[0;34m\u001b[0m\u001b[0;34m\u001b[0m\u001b[0m\n\u001b[0m\u001b[1;32m      4\u001b[0m \u001b[0mplt\u001b[0m\u001b[0;34m.\u001b[0m\u001b[0mhist\u001b[0m\u001b[0;34m(\u001b[0m\u001b[0merror\u001b[0m\u001b[0;34m,\u001b[0m \u001b[0mbins\u001b[0m \u001b[0;34m=\u001b[0m \u001b[0;36m50\u001b[0m\u001b[0;34m)\u001b[0m\u001b[0;34m\u001b[0m\u001b[0;34m\u001b[0m\u001b[0m\n\u001b[1;32m      5\u001b[0m \u001b[0mplt\u001b[0m\u001b[0;34m.\u001b[0m\u001b[0mxlabel\u001b[0m\u001b[0;34m(\u001b[0m\u001b[0;34m\"Prediction Error SVR[popularity]\"\u001b[0m\u001b[0;34m)\u001b[0m\u001b[0;34m\u001b[0m\u001b[0;34m\u001b[0m\u001b[0m\n",
            "\u001b[0;31mValueError\u001b[0m: operands could not be broadcast together with shapes (10202,) (12752,) "
          ]
        }
      ]
    },
    {
      "cell_type": "code",
      "source": [
        "plt.scatter(y_test, Y_val_pred_svr, alpha=0.1)\n",
        "plt.xlabel('True Values [popularity]')\n",
        "plt.ylabel('Predictions SVR [popularity]')\n",
        "plt.axis('square')\n",
        "plt.xlim([0,plt.xlim()[1]])\n",
        "plt.ylim([0,plt.ylim()[1]])\n",
        "_ = plt.plot()"
      ],
      "metadata": {
        "id": "WYc4ansYHfab"
      },
      "execution_count": null,
      "outputs": []
    },
    {
      "cell_type": "markdown",
      "source": [
        "# Stochastic Gradient Descent Regression"
      ],
      "metadata": {
        "id": "iwD1qfDk1b1q"
      }
    },
    {
      "cell_type": "code",
      "source": [
        "# from sklearn.linear_model import SGDRegressor\n",
        "# from sklearn.model_selection import GridSearchCV\n",
        "\n",
        "# sgdr_model = SGDRegressor()\n",
        "# param_grid = {\n",
        "#     'alpha': 10.0 ** -np.arange(1, 7),\n",
        "#     'loss': ['squared_loss', 'huber', 'epsilon_insensitive'],\n",
        "#     'penalty': ['l2', 'l1', 'elasticnet'],\n",
        "#     'learning_rate': ['constant', 'optimal', 'invscaling'],\n",
        "# }\n",
        "# sgdr_clf = GridSearchCV(sgdr_model, param_grid)\n",
        "# sgdr_clf.fit(X_train, y_train)\n"
      ],
      "metadata": {
        "id": "6xcesjr5xOAg"
      },
      "execution_count": null,
      "outputs": []
    },
    {
      "cell_type": "code",
      "source": [
        "# print(\"Best parameters:\" + str(sgdr_clf.best_params_))\n",
        "# print(\"Best score: \" + str(sgdr_clf.best_score_))"
      ],
      "metadata": {
        "id": "x0WGUXYU8IQ0"
      },
      "execution_count": null,
      "outputs": []
    },
    {
      "cell_type": "code",
      "source": [
        "# sgdr_model_2 = make_pipeline(StandardScaler(), SGDRegressor(alpha=1e-05, learning_rate='invscaling', loss='squared_loss', penalty='l1'))\n",
        "# sgdr_model_2.fit(X_train, y_train)\n",
        "\n",
        "# y_val_pred_sgdr2 = sgdr_model_2.predict(X_test)\n",
        "# sgdr_error2 = calculate_error(y_val_pred_sgdr2, y_val)\n",
        "# print(sgdr_error2)"
      ],
      "metadata": {
        "id": "1gKvB1Bqv8om"
      },
      "execution_count": null,
      "outputs": []
    },
    {
      "cell_type": "code",
      "source": [
        "# test_labels = y_test\n",
        "\n",
        "# error = y_val_pred_sgdr2 - y_test\n",
        "# plt.hist(error, bins = 50)\n",
        "# plt.xlabel(\"Prediction Error SGDR [popularity]\")\n",
        "# _ = plt.ylabel(\"Count\")"
      ],
      "metadata": {
        "id": "HNJcC8QMOA3L"
      },
      "execution_count": null,
      "outputs": []
    },
    {
      "cell_type": "code",
      "source": [
        "# plt.scatter(y_test, y_val_pred_sgdr2, alpha=0.1)\n",
        "# plt.xlabel('True Values [popularity]')\n",
        "# plt.ylabel('Predictions SGDR [popularity]')\n",
        "# plt.axis('square')\n",
        "# plt.xlim([0,plt.xlim()[1]])\n",
        "# plt.ylim([0,plt.ylim()[1]])\n",
        "# _ = plt.plot()"
      ],
      "metadata": {
        "id": "Cy6hGS1cHko1"
      },
      "execution_count": null,
      "outputs": []
    },
    {
      "cell_type": "code",
      "source": [
        "from sklearn.linear_model import SGDRegressor\n",
        " \n",
        "sgdr_model = make_pipeline(StandardScaler(), SGDRegressor(max_iter=1000, tol=1e-3))\n",
        "sgdr_model.fit(X_train, y_train)"
      ],
      "metadata": {
        "id": "-fDTNFfvtjK3"
      },
      "execution_count": null,
      "outputs": []
    },
    {
      "cell_type": "code",
      "source": [
        "y_val_pred_sgdr = sgdr_model.predict(X_test)\n",
        "sgdr_error = calculate_error(y_val_pred_sgdr, y_test)\n",
        "print(sgdr_error)"
      ],
      "metadata": {
        "id": "dT22oP1Jtl_W"
      },
      "execution_count": null,
      "outputs": []
    },
    {
      "cell_type": "code",
      "source": [
        "test_labels = y_test\n",
        "\n",
        "error = y_val_pred_sgdr - y_test\n",
        "plt.hist(error, bins = 50)\n",
        "plt.xlabel(\"Prediction Error SGDR [popularity]\")\n",
        "_ = plt.ylabel(\"Count\")"
      ],
      "metadata": {
        "id": "KHDHKHYaOGYr"
      },
      "execution_count": null,
      "outputs": []
    },
    {
      "cell_type": "code",
      "source": [
        "plt.scatter(y_test, y_val_pred_sgdr, alpha=0.1)\n",
        "plt.xlabel('True Values [popularity]')\n",
        "plt.ylabel('Predictions SGDR[popularity]')\n",
        "plt.axis('square')\n",
        "plt.xlim([0,plt.xlim()[1]])\n",
        "plt.ylim([0,plt.ylim()[1]])\n",
        "_ = plt.plot()"
      ],
      "metadata": {
        "id": "qdTw2lCkHn2E"
      },
      "execution_count": null,
      "outputs": []
    },
    {
      "cell_type": "code",
      "source": [
        "print(cross_validate(sgdr_model, X_train, y_train, cv=3))"
      ],
      "metadata": {
        "id": "rFSHJI11qJYk"
      },
      "execution_count": null,
      "outputs": []
    },
    {
      "cell_type": "code",
      "source": [
        "accuracy = cross_val_score(sgdr_model, X_test, y_test, scoring='accuracy', cv = 10)\n",
        "print(accuracy)"
      ],
      "metadata": {
        "id": "or7dXrLCSVIy"
      },
      "execution_count": null,
      "outputs": []
    }
  ]
}